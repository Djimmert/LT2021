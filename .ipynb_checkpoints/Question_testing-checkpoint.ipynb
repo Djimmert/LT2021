{
 "cells": [
  {
   "cell_type": "code",
   "execution_count": 2,
   "id": "573e7f95",
   "metadata": {
    "scrolled": false
   },
   "outputs": [
    {
     "name": "stdout",
     "output_type": "stream",
     "text": [
      "From what country does the movie T-34 originate? \n",
      "\n",
      "In what country is Château Picard located? \n",
      "\n",
      "In which country is Jungle Book set? \n",
      "\n",
      "What country is the film Lion King originally from? \n",
      "\n",
      "What country was Blood Diamond filmed in? \n",
      "\n",
      "What country was Jim Carrey born in? \n",
      "\n",
      "Which countries is Martin Scorsese a citizen in? \n",
      "\n",
      "defaultdict(<function <lambda> at 0x7f89a5fc5a60>, {' \\n': 1, '1964 \\n': 1, 'XofY': 646, 'verb_prop': 188, 'By what': 1, 'director jurassic': 1, 'filming location': 1, 'For which': 1, 'How did': 1, 'How is': 1, 'duration': 17, ' How': 2, 'How many': 16, 'How much': 3, 'How tall': 7, 'In what': 18, 'Is Brad': 1, 'Is Nicolas': 1, 'Is The': 1, 'Of which': 1, 'On what': 5, 'On which': 1, 'Star Wars': 1, 'To what': 1, 'voice woody': 1, 'what_which)_verb': 29, 'what_which': 25, ' What': 1, 'When did': 20, 'When is': 5, 'When was': 49, ' When': 1, 'When were': 1, 'When will': 2, 'Where are': 1, 'Where did': 1, 'Where does': 1, 'Where is': 2, 'Where was': 31, 'Who are': 2, 'Who directed': 1, 'Who is': 8, 'Why did': 1})\n"
     ]
    }
   ],
   "source": [
    "from collections import defaultdict\n",
    "import spacy\n",
    "from spacy import displacy\n",
    "\n",
    "nlp = spacy.load(\"en_core_web_sm\")\n",
    "\n",
    "duration_keywords = ['long', 'duration', 'minutes', 'time', 'length']\n",
    "location_keywords = ['country']\n",
    "\n",
    "with open('../all_questions_sorted.txt', encoding='utf-8') as f:\n",
    "    question_dict = defaultdict(lambda: 0)\n",
    "    for line in f.readlines():\n",
    "        \n",
    "        # Parse the input\n",
    "        parse = nlp(line)\n",
    "\n",
    "        # Extract sentence structure\n",
    "        lemmas = []\n",
    "        pos = []\n",
    "        dep = []\n",
    "        for word in parse:\n",
    "            lemmas.append(word.lemma_)\n",
    "            pos.append(word.pos_)\n",
    "            dep.append(word.dep_)\n",
    "\n",
    "        sent = parse.text.replace(\"?\", \"\")  # Strip question mark\n",
    "        sent = sent.replace('\"', \"\")  # Strip double apostrophe\n",
    "        sent = sent.replace(\"'\", \"\")  # Strip single apostrophe\n",
    "        \n",
    "\n",
    "        # Determine question type\n",
    "        question_type = \"\"\n",
    "        if 'pass' in dep:\n",
    "            question_type = \"passive\"  # e.g. 'Which movies are directed by X?'\n",
    "            question_dict[question_type] += 1\n",
    "            break\n",
    "        elif 'pobj' in dep:\n",
    "            question_type = \"XofY\"  # e.g. 'Who is the director of X?'\n",
    "            question_dict[question_type] += 1\n",
    "        elif 'dobj' in dep:\n",
    "            question_type = \"verb_prop\"  # e.g. 'Who directed X?'\n",
    "            question_dict[question_type] += 1\n",
    "        elif any(item in duration_keywords for item in sent.split(\" \")):\n",
    "            question_type = \"duration\"  # e.g. 'How long is X?'\n",
    "            question_dict[question_type] += 1\n",
    "        elif any(item in location_keywords for item in lemmas):\n",
    "            print(line)\n",
    "        elif parse[0].text == \"What\" or parse[0].text == \"Which\":\n",
    "            if parse[1].pos_ == \"NOUN\":\n",
    "                if \"VERB\" in pos:\n",
    "#                     print(line)\n",
    "                    question_dict[\"what_which)_verb\"] += 1\n",
    "                else:\n",
    "                    question_dict[\"what_which\"] += 1\n",
    "#                     displacy.render(parse, jupyter=True, style=\"dep\")\n",
    "        else:\n",
    "            newline = line.split(\" \")\n",
    "            question_dict[\" \".join(newline[0:2])] += 1\n",
    "                \n",
    "print(question_dict)"
   ]
  },
  {
   "cell_type": "code",
   "execution_count": null,
   "id": "6fd71c94",
   "metadata": {},
   "outputs": [],
   "source": []
  }
 ],
 "metadata": {
  "kernelspec": {
   "display_name": "Python 3",
   "language": "python",
   "name": "python3"
  },
  "language_info": {
   "codemirror_mode": {
    "name": "ipython",
    "version": 3
   },
   "file_extension": ".py",
   "mimetype": "text/x-python",
   "name": "python",
   "nbconvert_exporter": "python",
   "pygments_lexer": "ipython3",
   "version": "3.9.5"
  }
 },
 "nbformat": 4,
 "nbformat_minor": 5
}
